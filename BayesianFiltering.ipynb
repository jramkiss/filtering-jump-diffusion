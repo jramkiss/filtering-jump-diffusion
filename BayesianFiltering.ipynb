{
 "cells": [
  {
   "cell_type": "markdown",
   "id": "05b245e9",
   "metadata": {},
   "source": [
    "This notebook outlines how we used the functions provided in `jump_diffusion.py` and `particle_gibbs.py` to perform Bayesian filtering.\n",
    "\n",
    "The Jump-Diffusion model is the following:\n",
    "\n",
    "$$\n",
    "\\begin{aligned}\n",
    "Z_{t+\\Delta t} &= Z_t + (\\theta + \\kappa Z_t) \\Delta t + \\sigma_z \\sqrt{Z_t} \\Delta W_t^z + V_{t+\\Delta t}^z J_{t+\\Delta t} \\\\\n",
    "X_{t+\\Delta t} &= X_t + \\alpha \\Delta t + \\sqrt{Z_t} \\Delta W_t^x + V_{t+\\Delta t}^x J_{t+\\Delta t} \n",
    "\\end{aligned}\n",
    "$$\n",
    "\n",
    "where\n",
    "\n",
    "$$\n",
    "\\begin{aligned}\n",
    "\\Delta W_t^x, \\Delta W_t^z &\\sim \\textrm{iid } N(0, \\Delta t) \\\\\n",
    "V_t^z &\\sim \\exp(\\mu_z) \\\\\n",
    "V_t^x &\\sim N(\\mu_x, \\sigma^2_x) \\\\\n",
    "J_{t+\\Delta t} &\\sim \\textrm{Bern}(\\lambda \\Delta t).\n",
    "\\end{aligned}\n",
    "$$\n",
    "\n",
    "Thus, our parameters are $\\Theta = (\\alpha, \\theta, \\kappa, \\sigma_z, \\lambda,\\mu_x, \\sigma_x, \\mu_z)$, observation is $X_t$ (the logarithm of asset price), and latent state $Z_t$ (unobserved volatility).\n",
    "\n",
    "Note that all parameters that have positivity constraints are logged."
   ]
  },
  {
   "cell_type": "code",
   "execution_count": null,
   "id": "ed841fcd",
   "metadata": {},
   "outputs": [],
   "source": [
    "%load_ext autoreload\n",
    "%autoreload 2\n",
    "\n",
    "# needed for local imports in Jupyter:\n",
    "import os\n",
    "import sys\n",
    "module_path = os.path.abspath(os.path.join('.'))\n",
    "sys.path.append(module_path)\n",
    "    \n",
    "from jump_diffusion import *\n",
    "from utils import *\n",
    "from particle_filter_native import particle_filter_for"
   ]
  },
  {
   "cell_type": "code",
   "execution_count": null,
   "id": "a831204d",
   "metadata": {},
   "outputs": [],
   "source": [
    "import pandas as pd\n",
    "import seaborn as sns; sns.set()\n",
    "import matplotlib.pyplot as plt\n",
    "\n",
    "# plotting\n",
    "%matplotlib inline\n",
    "%config InlineBackend.figure_format = 'retina'\n",
    "\n",
    "import pfjax as pf\n",
    "from functools import partial\n",
    "from pfjax import particle_resamplers as resampler\n",
    "import time\n",
    "from tqdm import tqdm\n",
    "\n",
    "import warnings\n",
    "warnings.filterwarnings(\"ignore\")"
   ]
  },
  {
   "cell_type": "markdown",
   "id": "14b54dad",
   "metadata": {},
   "source": [
    "### Simulate Data"
   ]
  },
  {
   "cell_type": "code",
   "execution_count": null,
   "id": "ae50e96b",
   "metadata": {},
   "outputs": [],
   "source": [
    "key = random.PRNGKey(0)\n",
    "\n",
    "_dt = 1\n",
    "_n_res = 5\n",
    "n_obs = 3000\n",
    "\n",
    "# parameters: \n",
    "alpha = 0.08\n",
    "_theta = 0.02\n",
    "kappa = -0.03\n",
    "sigma_z = jnp.log(0.12)\n",
    "gamma = jnp.log(0.01)\n",
    "mu_x = -3.1\n",
    "sigma_x = jnp.log(2.7)\n",
    "mu_z = 1.7\n",
    "\n",
    "theta = jnp.array([alpha, _theta, kappa, sigma_z, gamma, mu_x, sigma_x, mu_z])\n",
    "x_init = jnp.block([[jnp.zeros((_n_res-1, 4))],\n",
    "                    [jnp.array([2.0, 50.0, 0, 0])]])\n",
    "\n",
    "jdmodel = JumpDiff(_dt, _n_res)"
   ]
  },
  {
   "cell_type": "code",
   "execution_count": null,
   "id": "f4d78983",
   "metadata": {},
   "outputs": [],
   "source": [
    "y_meas, x_state = pf.simulate(jdmodel, key, n_obs, x_init, theta)\n",
    "\n",
    "point_plot = pd.DataFrame(jnp.array([\n",
    "    jnp.arange(y_meas.shape[0]) * _n_res,\n",
    "    y_meas\n",
    "]).T, columns = [\"Time\", \"Log Asset Price\"])"
   ]
  },
  {
   "cell_type": "code",
   "execution_count": null,
   "id": "3d024572",
   "metadata": {},
   "outputs": [],
   "source": [
    "fig, ax = plt.subplots(nrows=2, ncols=1, figsize=(12, 7), sharex = True)\n",
    "\n",
    "sns.lineplot(data= x_state[..., 1].reshape(_n_res*n_obs, 1)[(_n_res-1):].squeeze(),\n",
    "             ax = ax[0], linewidth=0.7,\n",
    "             label = \"Price\").set(title =\"$X_t$\", ylabel=\"Price\")\n",
    "sns.lineplot(data= x_state[..., 0].reshape(_n_res*n_obs,1)[(_n_res-1):].squeeze(),\n",
    "             ax = ax[1], alpha = 0.9, linewidth=0.7, color = \"firebrick\",\n",
    "             label = \"Volatility\").set(xlabel=\"Time\",title = \"$Z_t$\", ylabel=\"Volatility\");"
   ]
  },
  {
   "cell_type": "code",
   "execution_count": null,
   "id": "2851e80e",
   "metadata": {},
   "outputs": [],
   "source": [
    "fig, ax = plt.subplots(nrows=2, ncols=1, figsize=(12, 7), sharex = True)\n",
    "\n",
    "sns.lineplot(data= x_state[..., 1].reshape(_n_res*n_obs, 1)[(_n_res-1):].squeeze(),\n",
    "             ax = ax[0], linewidth=0.7,\n",
    "             label = \"Price\").set(title =\"$X_t$\", ylabel=\"Price\")\n",
    "sns.scatterplot(x = \"Time\", y = \"Log Asset Price\", \n",
    "                data = point_plot,\n",
    "                color = \"firebrick\",\n",
    "                ax = ax[0],\n",
    "                s=5,\n",
    "                label=\"Observed\").set(title =\"$X_t$\")\n",
    "sns.lineplot(data= x_state[..., 3].reshape(_n_res*n_obs,1)[(_n_res-1):].squeeze() + y_meas[0],\n",
    "             ax = ax[0], alpha = 0.9, linewidth=0.7,\n",
    "             label = \"Price jumps\");\n",
    "\n",
    "sns.lineplot(data= x_state[..., 0].reshape(_n_res*n_obs,1)[(_n_res-1):].squeeze(),\n",
    "             ax = ax[1], alpha = 0.9, linewidth=0.7, color = \"firebrick\",\n",
    "             label = \"Volatility\").set(xlabel=\"Time\",title = \"$Z_t$\", ylabel=\"Volatility\");\n",
    "sns.lineplot(data= x_state[..., 2].reshape(_n_res*n_obs,1)[(_n_res-1):].squeeze(),\n",
    "             ax = ax[1], alpha = 0.9, linewidth=0.7,\n",
    "             label = \"Vol jumps\");"
   ]
  },
  {
   "cell_type": "markdown",
   "id": "067c218a",
   "metadata": {},
   "source": [
    "### Unit Tests\n",
    "\n",
    "In this section we test the native Python and JAX implementations of our functions: "
   ]
  },
  {
   "cell_type": "code",
   "execution_count": null,
   "id": "2531849a",
   "metadata": {},
   "outputs": [],
   "source": [
    "x_curr = x_state[2,:,:]\n",
    "x_prev = x_state[1,:,:]\n",
    "y_curr = x_prev[_n_res][1]\n",
    "\n",
    "print(\"pf_step JAX: \", jdmodel.pf_step(key, x_prev, y_curr, theta))\n",
    "print(\"pf_step native Python: \", jdmodel._pf_step_for(key, x_prev, y_curr, theta))"
   ]
  },
  {
   "cell_type": "code",
   "execution_count": null,
   "id": "34f199aa",
   "metadata": {},
   "outputs": [],
   "source": [
    "print(\"log-pdf JAX: \", jdmodel.state_lpdf(x_curr, x_prev, theta))\n",
    "print(\"log-pdf native Python: \", jdmodel._state_lpdf_for(x_curr, x_prev, theta))"
   ]
  },
  {
   "cell_type": "markdown",
   "id": "7aeab069",
   "metadata": {},
   "source": [
    "### Particle Filter\n",
    "\n",
    "This section runs the particle filter on the simulated data"
   ]
  },
  {
   "cell_type": "code",
   "execution_count": null,
   "id": "ff0bd49e",
   "metadata": {},
   "outputs": [],
   "source": [
    "# create partial function for resampler to use with particle filter\n",
    "num_particles = 100 #30_000\n",
    "resample_jittered_multinomial = partial(\n",
    "    jittered_multinomial,\n",
    "    h=1/(num_particles*5)\n",
    ")"
   ]
  },
  {
   "cell_type": "code",
   "execution_count": null,
   "id": "96ed40f4",
   "metadata": {},
   "outputs": [],
   "source": [
    "pf_jit = jax.jit(partial(\n",
    "    pf.particle_filter,\n",
    "    model = jdmodel,\n",
    "    key = random.PRNGKey(0),\n",
    "    y_meas = y_meas,\n",
    "    theta = theta,\n",
    "    resampler = resample_jittered_multinomial,\n",
    "    history=True\n",
    "), static_argnames=\"n_particles\")\n",
    "\n",
    "multinom_pf = pf_jit(n_particles=num_particles)"
   ]
  },
  {
   "cell_type": "code",
   "execution_count": null,
   "id": "36616c00",
   "metadata": {},
   "outputs": [],
   "source": [
    "# estimate volatility as weighted mean of particles at each timestep\n",
    "est_vol_mean = jax.vmap(\n",
    "    lambda x, w: jnp.average(x, axis=0, weights=pf.utils.logw_to_prob(w)),\n",
    "    in_axes = (0, 0))(multinom_pf[\"x_particles\"][1:, ..., 0],\n",
    "                      multinom_pf[\"logw\"][1:, ...])\n",
    "\n",
    "est_vol_lower = jax.vmap(\n",
    "    lambda x, logw: x[quantile_index(logw, q=0.025)],\n",
    "    in_axes = (0, 0))(multinom_pf[\"x_particles\"][1:, ..., 0],\n",
    "                      multinom_pf[\"logw\"][1:, ...])\n",
    "\n",
    "est_vol_upper = jax.vmap(\n",
    "    lambda x, logw: x[quantile_index(logw, q=0.975)],\n",
    "    in_axes = (0, 0))(multinom_pf[\"x_particles\"][1:, ..., 0],\n",
    "                      multinom_pf[\"logw\"][1:, ...])"
   ]
  },
  {
   "cell_type": "code",
   "execution_count": null,
   "id": "502b4523",
   "metadata": {},
   "outputs": [],
   "source": [
    "# plot estimate of volatility along with 95% bounds on filtering distribution: \n",
    "fig, ax = plt.subplots(nrows=2, ncols=1, figsize=(12, 7), sharex = True)\n",
    "\n",
    "sns.lineplot(\n",
    "    data = x_state[1:, :, 0].flatten(),\n",
    "    linewidth = 0.9, ax=ax[0],\n",
    "    label = \"True Volatility\").set(xlabel=\"Time\",title = \"$Z_t$\", ylabel=\"Volatility\")\n",
    "sns.lineplot(data = est_vol_mean.flatten(), \n",
    "             color = \"firebrick\", linewidth = 0.9, \n",
    "             alpha = 0.7, ax=ax[0],\n",
    "             label = \"Estimated Volatility\")\n",
    "\n",
    "sns.lineplot(\n",
    "    data = x_state[1:, :, 0].flatten(), ax=ax[1],\n",
    "    linewidth=0.9, \n",
    "    label = \"True Volatility\").set(xlabel=\"Time\", ylabel=\"Volatility\")\n",
    "ax[1].fill_between(\n",
    "    x = jnp.arange((n_obs-1)*_n_res),\n",
    "    y1=est_vol_lower.flatten(),\n",
    "    y2=est_vol_upper.flatten(),\n",
    "    color = \"firebrick\",\n",
    "    label=\"95% Posterior Bands\",\n",
    "    alpha = 0.3\n",
    ")\n",
    "ax[1].legend();"
   ]
  },
  {
   "cell_type": "code",
   "execution_count": null,
   "id": "3d9442fd",
   "metadata": {},
   "outputs": [],
   "source": [
    "# Find RMSE of estimates volatility: \n",
    "rmse(est_vol_mean.flatten(), x_state[1:, :, 0].flatten())"
   ]
  },
  {
   "cell_type": "code",
   "execution_count": null,
   "id": "c7210d49",
   "metadata": {},
   "outputs": [],
   "source": [
    "# plot all particles for (X_t, Z_t) - this plot will take about an hour to run, not advised...\n",
    "plot_particles(x_state, y_meas, \n",
    "               vol_particles=multinom_pf[\"x_particles\"][1:, :, :, 0], \n",
    "               price_particles=multinom_pf[\"x_particles\"][1:, :, :, 1],\n",
    "               plot_res=False,\n",
    "               n_res=_n_res,\n",
    "               n_obs=n_obs,\n",
    "               point_plot=point_plot,\n",
    "               title = \"Filtering of Jump Diffusion\")"
   ]
  },
  {
   "cell_type": "markdown",
   "id": "abddd1aa",
   "metadata": {},
   "source": [
    "### Runtime Simulations\n",
    "\n",
    "Before jumping into the simulation, we first test that both implementations of the particle filter produce the same results. This is done by comparing the estiamtes of the log-likelihood."
   ]
  },
  {
   "cell_type": "code",
   "execution_count": null,
   "id": "093a1e17",
   "metadata": {},
   "outputs": [],
   "source": [
    "def particle_filter_for (model, key, y_meas, theta, n_particles, for_loop=False):\n",
    "    r\"\"\"\n",
    "    Implementation of the particle filter in Algorithm 1 of Stat 906 project writeup\n",
    "    \"\"\"\n",
    "    n_obs = y_meas.shape[0]\n",
    "    key, *subkeys = random.split(key, num=n_particles+1)\n",
    "    x_particles = jnp.zeros((n_particles, *model._n_state))\n",
    "    logw = jnp.zeros(n_particles)\n",
    "\n",
    "    # initial particles and weights\n",
    "    for i, _subkey in enumerate(subkeys):\n",
    "        init_tmp = model.pf_init(key=_subkey, y_init=y_meas[0], theta=theta)\n",
    "        x_particles = x_particles.at[i].set(init_tmp[0])\n",
    "        logw = logw.at[i].set(init_tmp[1])\n",
    "\n",
    "    # start particle filter: \n",
    "    all_particles = jnp.zeros((n_obs, *x_particles.shape))\n",
    "    all_particles = all_particles.at[0].set(x_particles)\n",
    "    all_logw = jnp.zeros((n_obs, n_particles))\n",
    "    all_logw = all_logw.at[0].set(logw)\n",
    "    loglik = jsp.special.logsumexp(logw)\n",
    "    for t in jnp.arange(1, n_obs):\n",
    "        key, subkey = random.split(key)\n",
    "\n",
    "        # resample particles\n",
    "        resample_out = resampler.resample_multinomial(\n",
    "            key=subkey,\n",
    "            x_particles_prev=x_particles,\n",
    "            logw=logw\n",
    "        )\n",
    "\n",
    "        # sample particles for current timepoint\n",
    "        key, *subkeys = random.split(key, num=n_particles+1)\n",
    "        x_particles, logw = jax.vmap(\n",
    "            lambda k, x, y: model.pf_step(key=k, x_prev=x, y_curr=y, theta=theta),\n",
    "            in_axes=(0, 0, None)\n",
    "        )(jnp.array(subkeys), resample_out[\"x_particles\"], y_meas[t])\n",
    "        \n",
    "        loglik += jsp.special.logsumexp(logw) # log-likelihood calculation\n",
    "        all_particles = all_particles.at[t].set(x_particles)\n",
    "        all_logw = all_logw.at[t].set(logw)\n",
    "    \n",
    "    return {\n",
    "        \"x_particles\": all_particles,\n",
    "        \"logw\": all_logw,\n",
    "        \"loglik\": loglik - n_obs * jnp.log(n_particles)\n",
    "    }"
   ]
  },
  {
   "cell_type": "code",
   "execution_count": null,
   "id": "c6ef8488",
   "metadata": {},
   "outputs": [],
   "source": [
    "# For loop implementation of particle filter: \n",
    "start = time.perf_counter()\n",
    "jd_for = particle_filter_for(\n",
    "    model = jdmodel,\n",
    "    key = random.PRNGKey(0),\n",
    "    y_meas = y_meas,\n",
    "    theta = theta,\n",
    "    n_particles = 100\n",
    ")\n",
    "print(\"Time: \", time.perf_counter() - start)\n",
    "\n",
    "# JAX implementation of particle filter using pfjax: \n",
    "start = time.perf_counter()\n",
    "multinom_pf = pf.particle_filter(\n",
    "    theta=theta, \n",
    "    model=jdmodel, \n",
    "    y_meas=y_meas, \n",
    "    n_particles=100, \n",
    "    key=random.PRNGKey(0),\n",
    "    history = True)\n",
    "print(\"Time: \", time.perf_counter() - start)"
   ]
  },
  {
   "cell_type": "code",
   "execution_count": null,
   "id": "45a371c5",
   "metadata": {},
   "outputs": [],
   "source": [
    "print(\"Python log-likelihood: \", jd_for[\"loglik\"])\n",
    "print(\"JAX log-likelihood: \", multinom_pf[\"loglik\"])"
   ]
  },
  {
   "cell_type": "code",
   "execution_count": null,
   "id": "936e251c",
   "metadata": {},
   "outputs": [],
   "source": [
    "# partial function evals for 3 implementations of the particle filter: \n",
    "non_jax_pf = partial(\n",
    "    particle_filter_for,\n",
    "    model = jdmodel,\n",
    "    key = random.PRNGKey(0),\n",
    "    y_meas = y_meas,\n",
    "    theta = theta   \n",
    ")\n",
    "\n",
    "non_jit_pf = partial(\n",
    "    pf.particle_filter,\n",
    "    model = jdmodel,\n",
    "    key = random.PRNGKey(0),\n",
    "    y_meas = y_meas,\n",
    "    theta = theta   \n",
    ")\n",
    "\n",
    "jit_pf = jax.jit(partial(\n",
    "    pf.particle_filter,\n",
    "    model = jdmodel,\n",
    "    key = random.PRNGKey(0),\n",
    "    y_meas = y_meas,\n",
    "    theta = theta,\n",
    "), static_argnames=\"n_particles\")"
   ]
  },
  {
   "cell_type": "code",
   "execution_count": null,
   "id": "7a3b80f4",
   "metadata": {},
   "outputs": [],
   "source": [
    "num_particle_list = [50, 100, 250, 500]\n",
    "non_jax_info = pf_timer(non_jax_pf, num_particle_list, n_sim=3)\n",
    "non_jit_info = pf_timer(non_jit_pf, num_particle_list, n_sim=15)\n",
    "jit_info = pf_timer(jit_pf, num_particle_list, n_sim=15)"
   ]
  },
  {
   "cell_type": "code",
   "execution_count": null,
   "id": "38c16553",
   "metadata": {},
   "outputs": [],
   "source": [
    "sns.lineplot(x=num_particle_list, y=jit_info[\"avg_times\"], label=\"JIT\").set(\n",
    "    title = \"Runtime for PF Different Implementations\", xlabel = \"Number of Particles\",\n",
    "    ylabel = \"Runtime (seconds)\"\n",
    ")\n",
    "sns.lineplot(x=num_particle_list, y=non_jit_info[\"avg_times\"], label=\"JAX, no JIT\")\n",
    "sns.lineplot(x=num_particle_list, y=non_jax_info[\"avg_times\"], label=\"Native Python\");"
   ]
  },
  {
   "cell_type": "code",
   "execution_count": null,
   "id": "8fd939d1",
   "metadata": {},
   "outputs": [],
   "source": [
    "timing_df = pd.DataFrame(\n",
    "    dict(zip(num_particle_list, non_jit_info[\"avg_times\"])).items(),\n",
    "    columns=[\"Num particles\", \"Non-JIT Runtime\"])\n",
    "timing_df[\"JIT Runtime\"] = jit_info[\"avg_times\"]\n",
    "timing_df[\"Non-JAX Runtime\"] = non_jax_info[\"avg_times\"]\n",
    "timing_df\n",
    "# print(timing_df.style.to_latex())"
   ]
  },
  {
   "cell_type": "markdown",
   "id": "3f119243",
   "metadata": {},
   "source": [
    "### S&P 500 Index Data\n",
    "\n",
    "We also run the particle filter on S&P 500 daily closing prices from January 1986 to Janurary 2000"
   ]
  },
  {
   "cell_type": "code",
   "execution_count": null,
   "id": "214fa63d",
   "metadata": {},
   "outputs": [],
   "source": [
    "import yfinance as yf\n",
    "\n",
    "snp_data = yf.download('^GSPC','1986-01-03','2000-01-03')\n",
    "snp_closing = jnp.array(snp_data[\"Adj Close\"])\n",
    "snp_log_closing = jnp.log(snp_closing)"
   ]
  },
  {
   "cell_type": "code",
   "execution_count": null,
   "id": "eb183604",
   "metadata": {},
   "outputs": [],
   "source": [
    "fig, ax = plt.subplots(nrows=2, ncols=1, figsize=(12, 6), sharex = True)\n",
    "# fig.suptitle(\"S&P 500 Daily Closing Prices: Jan 1986 - Jan 2000\")\n",
    "sns.lineplot(snp_closing, ax = ax[0], label = \"Daily Closing Price\")\n",
    "sns.lineplot(snp_log_closing, ax = ax[1], label = \"log(Daily Closing Price)\");"
   ]
  },
  {
   "cell_type": "code",
   "execution_count": null,
   "id": "680e1262",
   "metadata": {},
   "outputs": [],
   "source": [
    "snp_theta = jnp.array([0.076, 0.018, -0.03, 0.007, -3.175, 2.595, 1.489])\n",
    "snp_jdmodel = JumpDiff(dt=1, n_res=5)\n",
    "\n",
    "snp_pf = jax.jit(partial(\n",
    "    pf.particle_filter,\n",
    "    model = snp_jdmodel,\n",
    "    key = random.PRNGKey(0),\n",
    "    y_meas = snp_closing,\n",
    "    theta = snp_theta,\n",
    "    resampler = resample_jittered_multinomial,\n",
    "    history = True\n",
    "), static_argnames=\"n_particles\")\n",
    "\n",
    "start = time.perf_counter()\n",
    "snp_filtered = snp_pf(n_particles = num_particles)\n",
    "print(\"Time: \", time.perf_counter() - start)"
   ]
  },
  {
   "cell_type": "code",
   "execution_count": null,
   "id": "b50d4f83",
   "metadata": {},
   "outputs": [],
   "source": [
    "# plot estiamtes of volatility: \n",
    "fig, ax = plt.subplots(nrows=1, ncols=1, figsize=(12, 5), sharex = True)\n",
    "\n",
    "est_vol_mean = jax.vmap(\n",
    "    lambda x, w: jnp.average(x, axis=0, weights=pf.utils.logw_to_prob(w)),\n",
    "    in_axes = (0, 0))(snp_filtered[\"x_particles\"][1:, ..., 0],\n",
    "                      snp_filtered[\"logw\"][1:, ...])\n",
    "\n",
    "sns.lineplot(data = est_vol_mean.flatten(), \n",
    "             color = \"firebrick\", linewidth = 0.9, \n",
    "             alpha = 0.7, ax=ax,\n",
    "             label = \"Estimated Volatility\").set(xlabel=\"Time\",title = \"Daily Closing Prices, S&P 500, $Z_t$\", \n",
    "                                                 ylabel=\"Volatility\");"
   ]
  }
 ],
 "metadata": {
  "kernelspec": {
   "display_name": "Python 3 (ipykernel)",
   "language": "python",
   "name": "python3"
  },
  "language_info": {
   "codemirror_mode": {
    "name": "ipython",
    "version": 3
   },
   "file_extension": ".py",
   "mimetype": "text/x-python",
   "name": "python",
   "nbconvert_exporter": "python",
   "pygments_lexer": "ipython3",
   "version": "3.9.13"
  },
  "latex_envs": {
   "LaTeX_envs_menu_present": true,
   "autoclose": false,
   "autocomplete": true,
   "bibliofile": "biblio.bib",
   "cite_by": "apalike",
   "current_citInitial": 1,
   "eqLabelWithNumbers": true,
   "eqNumInitial": 1,
   "hotkeys": {
    "equation": "Ctrl-E",
    "itemize": "Ctrl-I"
   },
   "labels_anchors": false,
   "latex_user_defs": false,
   "report_style_numbering": false,
   "user_envs_cfg": false
  }
 },
 "nbformat": 4,
 "nbformat_minor": 5
}
